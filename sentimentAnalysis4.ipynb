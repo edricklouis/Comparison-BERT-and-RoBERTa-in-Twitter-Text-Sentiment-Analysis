{
 "cells": [
  {
   "cell_type": "code",
   "execution_count": 3,
   "metadata": {},
   "outputs": [],
   "source": [
    "# General purpose packages\n",
    "import numpy as np\n",
    "import pandas as pd\n",
    "import tensorflow as tf\n",
    "import matplotlib.pyplot as plt\n",
    "import seaborn as sns\n",
    "\n",
    "# Data processing\n",
    "import re, string\n",
    "import emoji\n",
    "import nltk\n",
    "\n",
    "from sklearn import preprocessing\n",
    "from imblearn.over_sampling import RandomOverSampler\n",
    "from sklearn.model_selection import train_test_split\n",
    "\n",
    "\n",
    "# Naive Bayes\n",
    "from sklearn.feature_extraction.text import CountVectorizer\n",
    "from sklearn.feature_extraction.text import TfidfTransformer\n",
    "from sklearn.naive_bayes import MultinomialNB\n",
    "\n",
    "# Transformers\n",
    "from transformers import BertTokenizerFast\n",
    "from transformers import TFBertModel\n",
    "from transformers import RobertaTokenizerFast\n",
    "from transformers import TFRobertaModel\n",
    "\n",
    "# Keras\n",
    "import tensorflow as tf\n",
    "from tensorflow import keras\n",
    "\n",
    "# Metrics\n",
    "from sklearn.metrics import accuracy_score, f1_score\n",
    "from sklearn.metrics import classification_report, confusion_matrix"
   ]
  },
  {
   "cell_type": "code",
   "execution_count": 4,
   "metadata": {},
   "outputs": [
    {
     "data": {
      "text/plain": [
       "<Figure size 640x480 with 0 Axes>"
      ]
     },
     "metadata": {},
     "output_type": "display_data"
    }
   ],
   "source": [
    "# Set seed for reproducibility\n",
    "seed = 42\n",
    "\n",
    "# Set style for plots\n",
    "sns.set_style(\"whitegrid\")\n",
    "sns.despine()\n",
    "plt.style.use(\"seaborn-whitegrid\")\n",
    "plt.rc(\"figure\", autolayout = True)\n",
    "plt.rc(\"axes\", labelweight = \"bold\", labelsize = \"large\", titleweight = \"bold\", titlepad = 10)"
   ]
  },
  {
   "cell_type": "code",
   "execution_count": 5,
   "metadata": {},
   "outputs": [
    {
     "name": "stdout",
     "output_type": "stream",
     "text": [
      "Reduced size of training dataset: 5000\n",
      "Reduced size of testing dataset: 1000\n"
     ]
    }
   ],
   "source": [
    "# Dataset to train the model :\n",
    "df_train = pd.read_csv('Corona_NLP_train.csv', encoding = 'ISO-8859-1')\n",
    "# Dataset to test the performance of the model :\n",
    "df_test = pd.read_csv('Corona_NLP_test.csv')\n",
    "\n",
    "df_train = df_train.sample(n = 5000, random_state = 42)\n",
    "df_test = df_test.sample(n = 1000, random_state = 42)\n",
    "print(f'Reduced size of training dataset: {df_train.shape[0]}')\n",
    "print(f'Reduced size of testing dataset: {df_test.shape[0]}')"
   ]
  },
  {
   "cell_type": "code",
   "execution_count": 6,
   "metadata": {},
   "outputs": [
    {
     "data": {
      "text/html": [
       "<div>\n",
       "<style scoped>\n",
       "    .dataframe tbody tr th:only-of-type {\n",
       "        vertical-align: middle;\n",
       "    }\n",
       "\n",
       "    .dataframe tbody tr th {\n",
       "        vertical-align: top;\n",
       "    }\n",
       "\n",
       "    .dataframe thead th {\n",
       "        text-align: right;\n",
       "    }\n",
       "</style>\n",
       "<table border=\"1\" class=\"dataframe\">\n",
       "  <thead>\n",
       "    <tr style=\"text-align: right;\">\n",
       "      <th></th>\n",
       "      <th>UserName</th>\n",
       "      <th>ScreenName</th>\n",
       "      <th>Location</th>\n",
       "      <th>TweetAt</th>\n",
       "      <th>OriginalTweet</th>\n",
       "      <th>Sentiment</th>\n",
       "    </tr>\n",
       "  </thead>\n",
       "  <tbody>\n",
       "    <tr>\n",
       "      <th>31089</th>\n",
       "      <td>34888</td>\n",
       "      <td>79840</td>\n",
       "      <td>Lagos</td>\n",
       "      <td>06-04-2020</td>\n",
       "      <td>Without the there would not be any problem wh...</td>\n",
       "      <td>Neutral</td>\n",
       "    </tr>\n",
       "    <tr>\n",
       "      <th>35564</th>\n",
       "      <td>39363</td>\n",
       "      <td>84315</td>\n",
       "      <td>NaN</td>\n",
       "      <td>09-04-2020</td>\n",
       "      <td>Rice &amp;amp; wheat prices surge amid fears Covid...</td>\n",
       "      <td>Extremely Negative</td>\n",
       "    </tr>\n",
       "    <tr>\n",
       "      <th>144</th>\n",
       "      <td>3943</td>\n",
       "      <td>48895</td>\n",
       "      <td>NaN</td>\n",
       "      <td>16-03-2020</td>\n",
       "      <td>When the government says to start social dista...</td>\n",
       "      <td>Positive</td>\n",
       "    </tr>\n",
       "    <tr>\n",
       "      <th>8202</th>\n",
       "      <td>12001</td>\n",
       "      <td>56953</td>\n",
       "      <td>irlande du nord</td>\n",
       "      <td>19-03-2020</td>\n",
       "      <td>What the shops are doing is obeying the law of...</td>\n",
       "      <td>Positive</td>\n",
       "    </tr>\n",
       "    <tr>\n",
       "      <th>31720</th>\n",
       "      <td>35519</td>\n",
       "      <td>80471</td>\n",
       "      <td>Zaria, Nigeria</td>\n",
       "      <td>07-04-2020</td>\n",
       "      <td>Kaduna State Task Force on Covid 19 led by the...</td>\n",
       "      <td>Negative</td>\n",
       "    </tr>\n",
       "  </tbody>\n",
       "</table>\n",
       "</div>"
      ],
      "text/plain": [
       "       UserName  ScreenName         Location     TweetAt  \\\n",
       "31089     34888       79840            Lagos  06-04-2020   \n",
       "35564     39363       84315              NaN  09-04-2020   \n",
       "144        3943       48895              NaN  16-03-2020   \n",
       "8202      12001       56953  irlande du nord  19-03-2020   \n",
       "31720     35519       80471   Zaria, Nigeria  07-04-2020   \n",
       "\n",
       "                                           OriginalTweet           Sentiment  \n",
       "31089   Without the there would not be any problem wh...             Neutral  \n",
       "35564  Rice &amp; wheat prices surge amid fears Covid...  Extremely Negative  \n",
       "144    When the government says to start social dista...            Positive  \n",
       "8202   What the shops are doing is obeying the law of...            Positive  \n",
       "31720  Kaduna State Task Force on Covid 19 led by the...            Negative  "
      ]
     },
     "execution_count": 6,
     "metadata": {},
     "output_type": "execute_result"
    }
   ],
   "source": [
    "df_train.head()"
   ]
  },
  {
   "cell_type": "code",
   "execution_count": 7,
   "metadata": {},
   "outputs": [
    {
     "name": "stdout",
     "output_type": "stream",
     "text": [
      "<class 'pandas.core.frame.DataFrame'>\n",
      "Int64Index: 5000 entries, 31089 to 27377\n",
      "Data columns (total 6 columns):\n",
      " #   Column         Non-Null Count  Dtype \n",
      "---  ------         --------------  ----- \n",
      " 0   UserName       5000 non-null   int64 \n",
      " 1   ScreenName     5000 non-null   int64 \n",
      " 2   Location       3934 non-null   object\n",
      " 3   TweetAt        5000 non-null   object\n",
      " 4   OriginalTweet  5000 non-null   object\n",
      " 5   Sentiment      5000 non-null   object\n",
      "dtypes: int64(2), object(4)\n",
      "memory usage: 273.4+ KB\n"
     ]
    }
   ],
   "source": [
    "df_train.info()"
   ]
  },
  {
   "cell_type": "code",
   "execution_count": 8,
   "metadata": {},
   "outputs": [],
   "source": [
    "# Convert date column to pandas datetime format\n",
    "df_train['TweetAt'] = pd.to_datetime(df_train['TweetAt'])"
   ]
  },
  {
   "cell_type": "code",
   "execution_count": 9,
   "metadata": {},
   "outputs": [
    {
     "name": "stdout",
     "output_type": "stream",
     "text": [
      "<class 'pandas.core.frame.DataFrame'>\n",
      "Int64Index: 5000 entries, 31089 to 27377\n",
      "Data columns (total 6 columns):\n",
      " #   Column         Non-Null Count  Dtype         \n",
      "---  ------         --------------  -----         \n",
      " 0   UserName       5000 non-null   int64         \n",
      " 1   ScreenName     5000 non-null   int64         \n",
      " 2   Location       3934 non-null   object        \n",
      " 3   TweetAt        5000 non-null   datetime64[ns]\n",
      " 4   OriginalTweet  5000 non-null   object        \n",
      " 5   Sentiment      5000 non-null   object        \n",
      "dtypes: datetime64[ns](1), int64(2), object(3)\n",
      "memory usage: 273.4+ KB\n"
     ]
    }
   ],
   "source": [
    "# Remove duplicates tweets \n",
    "df_train.drop_duplicates(subset = 'OriginalTweet', inplace = True)\n",
    "df_train.info()"
   ]
  },
  {
   "cell_type": "code",
   "execution_count": 10,
   "metadata": {},
   "outputs": [
    {
     "data": {
      "image/png": "[encoded data removed]",
      "text/plain": [
       "<Figure size 2000x500 with 1 Axes>"
      ]
     },
     "metadata": {},
     "output_type": "display_data"
    }
   ],
   "source": [
    "# Display the tweets count by date\n",
    "tweets_per_day = df_train['TweetAt'].dt.strftime('%m-%d').value_counts().sort_index().reset_index(name = 'counts')\n",
    "\n",
    "plt.figure(figsize = (20,5))\n",
    "ax = sns.barplot(x = 'index', y = 'counts', data = tweets_per_day, edgecolor = 'black', errorbar = ('ci', False), palette = 'Blues_r')\n",
    "plt.title('Tweets count by date')\n",
    "plt.yticks([])\n",
    "ax.bar_label(ax.containers[0])\n",
    "plt.ylabel('count')\n",
    "plt.xlabel('')\n",
    "plt.show()"
   ]
  },
  {
   "cell_type": "code",
   "execution_count": 11,
   "metadata": {},
   "outputs": [
    {
     "name": "stdout",
     "output_type": "stream",
     "text": [
      "No locations with more than 100 tweets.\n"
     ]
    }
   ],
   "source": [
    "# Display the tweets count per country and city\n",
    "tweets_per_country = df_train['Location'].value_counts().loc[lambda x : x > 100].reset_index(name = 'counts')\n",
    "\n",
    "if not tweets_per_country.empty :\n",
    "    plt.figure(figsize = (15,6))\n",
    "    ax = sns.barplot(x = 'index', y = 'counts', data = tweets_per_country, edgecolor = 'black', errorbar = ('ci', False), palette='Spectral')\n",
    "    plt.title('Tweets count by country and city')\n",
    "    plt.xticks(rotation = 70)\n",
    "    plt.yticks([])\n",
    "    ax.bar_label(ax.containers[0])\n",
    "    plt.ylabel('count')\n",
    "    plt.xlabel('')\n",
    "    plt.show()\n",
    "else :\n",
    "    print(\"No locations with more than 100 tweets.\")"
   ]
  },
  {
   "cell_type": "code",
   "execution_count": 12,
   "metadata": {},
   "outputs": [],
   "source": [
    "# Tweets deep cleaning\n",
    "df_train = df_train[['OriginalTweet','Sentiment']]\n",
    "df_test = df_test[['OriginalTweet','Sentiment']]"
   ]
  },
  {
   "cell_type": "code",
   "execution_count": 13,
   "metadata": {},
   "outputs": [],
   "source": [
    "# Remove emoji\n",
    "def strip_emoji(text) :\n",
    "    return emoji.replace_emoji(text, replace = '')\n",
    "\n",
    "# Remove punctuations, links, mentions and new line characters\n",
    "def strip_all_entities(text) : \n",
    "    text = text.replace('\\r', '').replace('\\n', ' ').replace('\\n', ' ').lower()\n",
    "    text = re.sub(r\"(?:\\@|https?\\://)\\S+\", \"\", text)\n",
    "    text = re.sub(r'[^\\x00-\\x7f]',r'', text)\n",
    "    banned_list= string.punctuation + 'Ã'+'±'+'ã'+'¼'+'â'+'»'+'§'\n",
    "    table = str.maketrans('', '', banned_list)\n",
    "    text = text.translate(table)\n",
    "    return text\n",
    "\n",
    "# Remove hashtags\n",
    "def clean_hashtags(tweet) :\n",
    "    new_tweet = \" \".join(word.strip() for word in re.split('#(?!(?:hashtag)\\b)[\\w-]+(?=(?:\\s+#[\\w-]+)*\\s*$)', tweet))\n",
    "    new_tweet2 = \" \".join(word.strip() for word in re.split('#|_', new_tweet))\n",
    "    return new_tweet2\n",
    "\n",
    "# Filter special characters such as \"&\" and \"$\" present in some words\n",
    "def filter_chars(a) :\n",
    "    sent = []\n",
    "    for word in a.split(' ') :\n",
    "        if('$' in word) | ('&' in word) :\n",
    "            sent.append('')\n",
    "        else :\n",
    "            sent.append(word)\n",
    "    return ' '.join(sent)\n",
    "\n",
    "# Remove multiple spaces\n",
    "def remove_mult_spaces(text) :\n",
    "    return re.sub(\"\\s\\s+\" , \" \", text)\n",
    "\n",
    "texts_new_train = []\n",
    "for t in df_train.OriginalTweet :\n",
    "    texts_new_train.append(remove_mult_spaces(filter_chars(clean_hashtags(strip_all_entities(strip_emoji(t))))))\n",
    "\n",
    "texts_new_test = []\n",
    "for t in df_test.OriginalTweet :\n",
    "    texts_new_test.append(remove_mult_spaces(filter_chars(clean_hashtags(strip_all_entities(strip_emoji(t))))))"
   ]
  },
  {
   "cell_type": "code",
   "execution_count": 14,
   "metadata": {},
   "outputs": [
    {
     "data": {
      "text/plain": [
       "31089    without the there would not be any problem wha...\n",
       "35564    rice amp wheat prices surge amid fears covid19...\n",
       "144      when the government says to start social dista...\n",
       "8202     what the shops are doing is obeying the law of...\n",
       "31720    kaduna state task force on covid 19 led by the...\n",
       "Name: text_clean, dtype: object"
      ]
     },
     "execution_count": 14,
     "metadata": {},
     "output_type": "execute_result"
    }
   ],
   "source": [
    "# Create a new column for both train and test sets \n",
    "df_train['text_clean'] = texts_new_train\n",
    "df_test['text_clean'] = texts_new_test\n",
    "df_train['text_clean'].head()"
   ]
  },
  {
   "cell_type": "code",
   "execution_count": 15,
   "metadata": {},
   "outputs": [
    {
     "data": {
      "text/plain": [
       "1070    at my local grocery store in new hampshire cor...\n",
       "354     seeing resellers sell masks alcohols and other...\n",
       "881     where did coronavirus come from and where will...\n",
       "196     if you still can stock up on dry and canned fo...\n",
       "3518    popped over at my local supermarket n it s zom...\n",
       "Name: text_clean, dtype: object"
      ]
     },
     "execution_count": 15,
     "metadata": {},
     "output_type": "execute_result"
    }
   ],
   "source": [
    "df_test['text_clean'].head()"
   ]
  },
  {
   "cell_type": "code",
   "execution_count": 16,
   "metadata": {},
   "outputs": [
    {
     "data": {
      "text/plain": [
       "array(['rice amp wheat prices surge amid fears covid19 lockdown may threaten global food security increased panic buying of food due to coronavirus lockdowns has led to price spikes for worlds two staple grains riceamp wheat importers rushed to stockpile goods',\n",
       "       'when the government says to start social distancing but you work retail so you cant just not talk to customers in the store lol fml im 100 going to catch covid19',\n",
       "       'what the shops are doing is obeying the law of demand and supply if we want an ethical distribution of essential consumer items then we must look to socialism thats what we had with rationing in ww2 under an ostensibly conservative pm coronavirus covid19uk borisout',\n",
       "       'kaduna state task force on covid 19 led by the deputy governor sabuwa balarabe today met with representatives of dealers traders of food and other essential items in sheik gumi market to address the wanton hike on the prices of food items at this critical period',\n",
       "       'no coronavirus break for consumer credit scores',\n",
       "       'were working closely with suppliers to constantly restock so we can get as much food into as many homes as possible were experiencing unprecedented levels of demand at the moment amp we apologise if some items are out of stock please',\n",
       "       'my sister works at a grocery store those employees should get hazard pay coronavirus covidcanada covidbc covid19'],\n",
       "      dtype=object)"
      ]
     },
     "execution_count": 16,
     "metadata": {},
     "output_type": "execute_result"
    }
   ],
   "source": [
    "df_train['text_clean'][1:8].values"
   ]
  },
  {
   "cell_type": "code",
   "execution_count": 17,
   "metadata": {},
   "outputs": [
    {
     "data": {
      "image/png": "[encoded data removed]",
      "text/plain": [
       "<Figure size 700x500 with 1 Axes>"
      ]
     },
     "metadata": {},
     "output_type": "display_data"
    }
   ],
   "source": [
    "# Create a new column to host the length of the cleaned text\n",
    "text_len_train = []\n",
    "for text in df_train.text_clean :\n",
    "    tweet_len = len(text.split())\n",
    "    text_len_train.append(tweet_len)\n",
    "df_train['text_len'] = text_len_train\n",
    "\n",
    "text_len_test = []\n",
    "for text in df_test.text_clean :\n",
    "    tweet_len = len(text.split())\n",
    "    text_len_test.append(tweet_len)\n",
    "df_test['text_len'] = text_len_test\n",
    "\n",
    "plt.figure(figsize = (7,5))\n",
    "ax = sns.countplot(x = 'text_len', data = df_train[df_train['text_len'] < 10], palette = 'mako')\n",
    "plt.title('Training tweets with less than 10 words')\n",
    "plt.yticks([])\n",
    "ax.bar_label(ax.containers[0])\n",
    "plt.ylabel('count')\n",
    "plt.xlabel('')\n",
    "plt.show()"
   ]
  },
  {
   "cell_type": "code",
   "execution_count": 18,
   "metadata": {},
   "outputs": [
    {
     "data": {
      "image/png": "[encoded data removed]",
      "text/plain": [
       "<Figure size 700x500 with 1 Axes>"
      ]
     },
     "metadata": {},
     "output_type": "display_data"
    }
   ],
   "source": [
    "plt.figure(figsize = (7,5))\n",
    "ax = sns.countplot(x = 'text_len', data = df_test[df_test['text_len'] < 10], palette = 'mako')\n",
    "plt.title('Test tweets with less than 10 words')\n",
    "plt.yticks([])\n",
    "ax.bar_label(ax.containers[0])\n",
    "plt.ylabel('count')\n",
    "plt.xlabel('')\n",
    "plt.show()"
   ]
  },
  {
   "cell_type": "code",
   "execution_count": 19,
   "metadata": {},
   "outputs": [
    {
     "name": "stdout",
     "output_type": "stream",
     "text": [
      "df_train shape : (5000, 4)\n",
      "df_test shape : (1000, 4)\n"
     ]
    }
   ],
   "source": [
    "print(f\"df_train shape : {df_train.shape}\")\n",
    "print(f\"df_test shape : {df_test.shape}\")"
   ]
  },
  {
   "cell_type": "code",
   "execution_count": 20,
   "metadata": {},
   "outputs": [
    {
     "name": "stdout",
     "output_type": "stream",
     "text": [
      "df_train shape : (4972, 4)\n",
      "df_test shape : (997, 4)\n"
     ]
    }
   ],
   "source": [
    "# Remove the empty tweets and also those with less than 5 words\n",
    "df_train = df_train[df_train['text_len'] > 4]\n",
    "df_test = df_test[df_test['text_len'] > 4]\n",
    "print(f\"df_train shape : {df_train.shape}\")\n",
    "print(f\"df_test shape : {df_test.shape}\")"
   ]
  },
  {
   "cell_type": "code",
   "execution_count": 21,
   "metadata": {},
   "outputs": [
    {
     "name": "stdout",
     "output_type": "stream",
     "text": [
      "Max tokenized sentence length : 100\n"
     ]
    }
   ],
   "source": [
    "# Training data deeper cleaning\n",
    "\n",
    "# Import the BERT tokenizer\n",
    "tokenizer = BertTokenizerFast.from_pretrained('bert-base-uncased')\n",
    "\n",
    "token_lens = []\n",
    "for txt in df_train['text_clean'].values :\n",
    "    tokens = tokenizer.encode(txt, max_length = 512, truncation = True)\n",
    "    token_lens.append(len(tokens))\n",
    "max_len = np.max(token_lens)\n",
    "\n",
    "print(f\"Max tokenized sentence length : {max_len}\")"
   ]
  },
  {
   "cell_type": "code",
   "execution_count": 22,
   "metadata": {},
   "outputs": [
    {
     "name": "stdout",
     "output_type": "stream",
     "text": [
      "Index : 3446, Text : zsah policie proti spekulantm s roukami na mj popud hejtman steckho kraje ve spoluprci s podle krizovho zkona zajistil tm 700 tisrouek od firmy kter je mla dodat na zdravotnkm ale na posledn chvli se snaila navyovat cenu spolutozvladneme\n"
     ]
    }
   ],
   "source": [
    "token_lens = []\n",
    "for i, txt in enumerate(df_train['text_clean'].values) :\n",
    "    tokens = tokenizer.encode(txt, max_length = 512, truncation = True)\n",
    "    token_lens.append(len(tokens))\n",
    "    if len(tokens) > 80 :\n",
    "        print(f\"Index : {i}, Text : {txt}\")"
   ]
  },
  {
   "cell_type": "code",
   "execution_count": 23,
   "metadata": {},
   "outputs": [
    {
     "data": {
      "text/html": [
       "<div>\n",
       "<style scoped>\n",
       "    .dataframe tbody tr th:only-of-type {\n",
       "        vertical-align: middle;\n",
       "    }\n",
       "\n",
       "    .dataframe tbody tr th {\n",
       "        vertical-align: top;\n",
       "    }\n",
       "\n",
       "    .dataframe thead th {\n",
       "        text-align: right;\n",
       "    }\n",
       "</style>\n",
       "<table border=\"1\" class=\"dataframe\">\n",
       "  <thead>\n",
       "    <tr style=\"text-align: right;\">\n",
       "      <th></th>\n",
       "      <th>OriginalTweet</th>\n",
       "      <th>Sentiment</th>\n",
       "      <th>text_clean</th>\n",
       "      <th>text_len</th>\n",
       "      <th>token_lens</th>\n",
       "    </tr>\n",
       "  </thead>\n",
       "  <tbody>\n",
       "    <tr>\n",
       "      <th>1638</th>\n",
       "      <td>ZÃ¡sah policie proti spekulant?m s rouÂkami. ...</td>\n",
       "      <td>Neutral</td>\n",
       "      <td>zsah policie proti spekulantm s roukami na mj ...</td>\n",
       "      <td>39</td>\n",
       "      <td>100</td>\n",
       "    </tr>\n",
       "    <tr>\n",
       "      <th>1697</th>\n",
       "      <td>I work at a grocery store.\\r\\r\\nWe wont get an...</td>\n",
       "      <td>Positive</td>\n",
       "      <td>i work at a grocery store we wont get any toil...</td>\n",
       "      <td>37</td>\n",
       "      <td>77</td>\n",
       "    </tr>\n",
       "    <tr>\n",
       "      <th>40778</th>\n",
       "      <td>#Covid_19 2days Stay-at-home activities\\r\\r\\nU...</td>\n",
       "      <td>Neutral</td>\n",
       "      <td>covid19 2days stayathome activities up 630am f...</td>\n",
       "      <td>37</td>\n",
       "      <td>75</td>\n",
       "    </tr>\n",
       "    <tr>\n",
       "      <th>34288</th>\n",
       "      <td>$BRZL Scepter Holdings, Inc., Developing Hand ...</td>\n",
       "      <td>Positive</td>\n",
       "      <td>brzl scepter holdings inc developing hand sani...</td>\n",
       "      <td>36</td>\n",
       "      <td>74</td>\n",
       "    </tr>\n",
       "    <tr>\n",
       "      <th>9027</th>\n",
       "      <td>La escena se repite alrededor del mundo: desde...</td>\n",
       "      <td>Neutral</td>\n",
       "      <td>la escena se repite alrededor del mundo desde ...</td>\n",
       "      <td>38</td>\n",
       "      <td>72</td>\n",
       "    </tr>\n",
       "    <tr>\n",
       "      <th>34867</th>\n",
       "      <td>When you're out of toilet paper and need to bu...</td>\n",
       "      <td>Positive</td>\n",
       "      <td>when youre out of toilet paper and need to buy...</td>\n",
       "      <td>39</td>\n",
       "      <td>72</td>\n",
       "    </tr>\n",
       "    <tr>\n",
       "      <th>15953</th>\n",
       "      <td>COVID-19 I Decided To Drop Prices.\\r\\r\\n\\r\\r\\n...</td>\n",
       "      <td>Negative</td>\n",
       "      <td>covid19 i decided to drop prices websiteinclud...</td>\n",
       "      <td>36</td>\n",
       "      <td>72</td>\n",
       "    </tr>\n",
       "    <tr>\n",
       "      <th>31157</th>\n",
       "      <td>7 Days in quarantine with @CraigDavid ?\\r\\r\\n-...</td>\n",
       "      <td>Neutral</td>\n",
       "      <td>7 days in quarantine with pandemicbanter covid...</td>\n",
       "      <td>21</td>\n",
       "      <td>71</td>\n",
       "    </tr>\n",
       "    <tr>\n",
       "      <th>2505</th>\n",
       "      <td>My Mom walks in to a grocery store and in fron...</td>\n",
       "      <td>Extremely Negative</td>\n",
       "      <td>my mom walks in to a grocery store and in fron...</td>\n",
       "      <td>56</td>\n",
       "      <td>70</td>\n",
       "    </tr>\n",
       "    <tr>\n",
       "      <th>2825</th>\n",
       "      <td>They say that\" The Fijian Competition and Cons...</td>\n",
       "      <td>Extremely Negative</td>\n",
       "      <td>they say that the fijian competition and consu...</td>\n",
       "      <td>46</td>\n",
       "      <td>70</td>\n",
       "    </tr>\n",
       "    <tr>\n",
       "      <th>38534</th>\n",
       "      <td>Washing your hands regularly with soap is a go...</td>\n",
       "      <td>Extremely Positive</td>\n",
       "      <td>washing your hands regularly with soap is a go...</td>\n",
       "      <td>41</td>\n",
       "      <td>68</td>\n",
       "    </tr>\n",
       "    <tr>\n",
       "      <th>11077</th>\n",
       "      <td>As a direct result, IÂm out of cludger cos th...</td>\n",
       "      <td>Negative</td>\n",
       "      <td>as a direct result im out of cludger cos they ...</td>\n",
       "      <td>51</td>\n",
       "      <td>68</td>\n",
       "    </tr>\n",
       "    <tr>\n",
       "      <th>953</th>\n",
       "      <td>A thought then to those of us with NO INCOME f...</td>\n",
       "      <td>Extremely Negative</td>\n",
       "      <td>a thought then to those of us with no income f...</td>\n",
       "      <td>42</td>\n",
       "      <td>68</td>\n",
       "    </tr>\n",
       "    <tr>\n",
       "      <th>4165</th>\n",
       "      <td>Not a single bag of flour on the shelf... 10 s...</td>\n",
       "      <td>Extremely Positive</td>\n",
       "      <td>not a single bag of flour on the shelf 10 seas...</td>\n",
       "      <td>36</td>\n",
       "      <td>68</td>\n",
       "    </tr>\n",
       "    <tr>\n",
       "      <th>38817</th>\n",
       "      <td>Artnaturals Alcohol Based Hand Sanitizer Gel (...</td>\n",
       "      <td>Extremely Positive</td>\n",
       "      <td>artnaturals alcohol based hand sanitizer gel 1...</td>\n",
       "      <td>33</td>\n",
       "      <td>68</td>\n",
       "    </tr>\n",
       "    <tr>\n",
       "      <th>11204</th>\n",
       "      <td>Cool #daffodils are blooming! Come and get som...</td>\n",
       "      <td>Extremely Positive</td>\n",
       "      <td>cool daffodils are blooming come and get some ...</td>\n",
       "      <td>40</td>\n",
       "      <td>67</td>\n",
       "    </tr>\n",
       "    <tr>\n",
       "      <th>13320</th>\n",
       "      <td>What a nice bloke, all that's been asked is fo...</td>\n",
       "      <td>Extremely Positive</td>\n",
       "      <td>what a nice bloke all thats been asked is for ...</td>\n",
       "      <td>45</td>\n",
       "      <td>67</td>\n",
       "    </tr>\n",
       "    <tr>\n",
       "      <th>10090</th>\n",
       "      <td>At every supermarket or open store please keep...</td>\n",
       "      <td>Extremely Positive</td>\n",
       "      <td>at every supermarket or open store please keep...</td>\n",
       "      <td>38</td>\n",
       "      <td>67</td>\n",
       "    </tr>\n",
       "    <tr>\n",
       "      <th>32780</th>\n",
       "      <td>This was a first! I've never had to walk into ...</td>\n",
       "      <td>Negative</td>\n",
       "      <td>this was a first ive never had to walk into a ...</td>\n",
       "      <td>46</td>\n",
       "      <td>67</td>\n",
       "    </tr>\n",
       "    <tr>\n",
       "      <th>8047</th>\n",
       "      <td>Do any of you lovely people who are out of wor...</td>\n",
       "      <td>Extremely Positive</td>\n",
       "      <td>do any of you lovely people who are out of wor...</td>\n",
       "      <td>39</td>\n",
       "      <td>66</td>\n",
       "    </tr>\n",
       "  </tbody>\n",
       "</table>\n",
       "</div>"
      ],
      "text/plain": [
       "                                           OriginalTweet           Sentiment  \\\n",
       "1638   ZÃ¡sah policie proti spekulant?m s rouÂkami. ...             Neutral   \n",
       "1697   I work at a grocery store.\\r\\r\\nWe wont get an...            Positive   \n",
       "40778  #Covid_19 2days Stay-at-home activities\\r\\r\\nU...             Neutral   \n",
       "34288  $BRZL Scepter Holdings, Inc., Developing Hand ...            Positive   \n",
       "9027   La escena se repite alrededor del mundo: desde...             Neutral   \n",
       "34867  When you're out of toilet paper and need to bu...            Positive   \n",
       "15953  COVID-19 I Decided To Drop Prices.\\r\\r\\n\\r\\r\\n...            Negative   \n",
       "31157  7 Days in quarantine with @CraigDavid ?\\r\\r\\n-...             Neutral   \n",
       "2505   My Mom walks in to a grocery store and in fron...  Extremely Negative   \n",
       "2825   They say that\" The Fijian Competition and Cons...  Extremely Negative   \n",
       "38534  Washing your hands regularly with soap is a go...  Extremely Positive   \n",
       "11077  As a direct result, IÂm out of cludger cos th...            Negative   \n",
       "953    A thought then to those of us with NO INCOME f...  Extremely Negative   \n",
       "4165   Not a single bag of flour on the shelf... 10 s...  Extremely Positive   \n",
       "38817  Artnaturals Alcohol Based Hand Sanitizer Gel (...  Extremely Positive   \n",
       "11204  Cool #daffodils are blooming! Come and get som...  Extremely Positive   \n",
       "13320  What a nice bloke, all that's been asked is fo...  Extremely Positive   \n",
       "10090  At every supermarket or open store please keep...  Extremely Positive   \n",
       "32780  This was a first! I've never had to walk into ...            Negative   \n",
       "8047   Do any of you lovely people who are out of wor...  Extremely Positive   \n",
       "\n",
       "                                              text_clean  text_len  token_lens  \n",
       "1638   zsah policie proti spekulantm s roukami na mj ...        39         100  \n",
       "1697   i work at a grocery store we wont get any toil...        37          77  \n",
       "40778  covid19 2days stayathome activities up 630am f...        37          75  \n",
       "34288  brzl scepter holdings inc developing hand sani...        36          74  \n",
       "9027   la escena se repite alrededor del mundo desde ...        38          72  \n",
       "34867  when youre out of toilet paper and need to buy...        39          72  \n",
       "15953  covid19 i decided to drop prices websiteinclud...        36          72  \n",
       "31157  7 days in quarantine with pandemicbanter covid...        21          71  \n",
       "2505   my mom walks in to a grocery store and in fron...        56          70  \n",
       "2825   they say that the fijian competition and consu...        46          70  \n",
       "38534  washing your hands regularly with soap is a go...        41          68  \n",
       "11077  as a direct result im out of cludger cos they ...        51          68  \n",
       "953    a thought then to those of us with no income f...        42          68  \n",
       "4165   not a single bag of flour on the shelf 10 seas...        36          68  \n",
       "38817  artnaturals alcohol based hand sanitizer gel 1...        33          68  \n",
       "11204  cool daffodils are blooming come and get some ...        40          67  \n",
       "13320  what a nice bloke all thats been asked is for ...        45          67  \n",
       "10090  at every supermarket or open store please keep...        38          67  \n",
       "32780  this was a first ive never had to walk into a ...        46          67  \n",
       "8047   do any of you lovely people who are out of wor...        39          66  "
      ]
     },
     "execution_count": 23,
     "metadata": {},
     "output_type": "execute_result"
    }
   ],
   "source": [
    "# Drop the text that are not in english\n",
    "df_train['token_lens'] = token_lens\n",
    "df_train = df_train.sort_values(by = 'token_lens', ascending = False)\n",
    "df_train.head(20)"
   ]
  },
  {
   "cell_type": "code",
   "execution_count": 24,
   "metadata": {},
   "outputs": [
    {
     "data": {
      "text/html": [
       "<div>\n",
       "<style scoped>\n",
       "    .dataframe tbody tr th:only-of-type {\n",
       "        vertical-align: middle;\n",
       "    }\n",
       "\n",
       "    .dataframe tbody tr th {\n",
       "        vertical-align: top;\n",
       "    }\n",
       "\n",
       "    .dataframe thead th {\n",
       "        text-align: right;\n",
       "    }\n",
       "</style>\n",
       "<table border=\"1\" class=\"dataframe\">\n",
       "  <thead>\n",
       "    <tr style=\"text-align: right;\">\n",
       "      <th></th>\n",
       "      <th>OriginalTweet</th>\n",
       "      <th>Sentiment</th>\n",
       "      <th>text_clean</th>\n",
       "      <th>text_len</th>\n",
       "      <th>token_lens</th>\n",
       "    </tr>\n",
       "  </thead>\n",
       "  <tbody>\n",
       "    <tr>\n",
       "      <th>953</th>\n",
       "      <td>A thought then to those of us with NO INCOME f...</td>\n",
       "      <td>Extremely Negative</td>\n",
       "      <td>a thought then to those of us with no income f...</td>\n",
       "      <td>42</td>\n",
       "      <td>68</td>\n",
       "    </tr>\n",
       "    <tr>\n",
       "      <th>4165</th>\n",
       "      <td>Not a single bag of flour on the shelf... 10 s...</td>\n",
       "      <td>Extremely Positive</td>\n",
       "      <td>not a single bag of flour on the shelf 10 seas...</td>\n",
       "      <td>36</td>\n",
       "      <td>68</td>\n",
       "    </tr>\n",
       "    <tr>\n",
       "      <th>38817</th>\n",
       "      <td>Artnaturals Alcohol Based Hand Sanitizer Gel (...</td>\n",
       "      <td>Extremely Positive</td>\n",
       "      <td>artnaturals alcohol based hand sanitizer gel 1...</td>\n",
       "      <td>33</td>\n",
       "      <td>68</td>\n",
       "    </tr>\n",
       "    <tr>\n",
       "      <th>11204</th>\n",
       "      <td>Cool #daffodils are blooming! Come and get som...</td>\n",
       "      <td>Extremely Positive</td>\n",
       "      <td>cool daffodils are blooming come and get some ...</td>\n",
       "      <td>40</td>\n",
       "      <td>67</td>\n",
       "    </tr>\n",
       "    <tr>\n",
       "      <th>13320</th>\n",
       "      <td>What a nice bloke, all that's been asked is fo...</td>\n",
       "      <td>Extremely Positive</td>\n",
       "      <td>what a nice bloke all thats been asked is for ...</td>\n",
       "      <td>45</td>\n",
       "      <td>67</td>\n",
       "    </tr>\n",
       "  </tbody>\n",
       "</table>\n",
       "</div>"
      ],
      "text/plain": [
       "                                           OriginalTweet           Sentiment  \\\n",
       "953    A thought then to those of us with NO INCOME f...  Extremely Negative   \n",
       "4165   Not a single bag of flour on the shelf... 10 s...  Extremely Positive   \n",
       "38817  Artnaturals Alcohol Based Hand Sanitizer Gel (...  Extremely Positive   \n",
       "11204  Cool #daffodils are blooming! Come and get som...  Extremely Positive   \n",
       "13320  What a nice bloke, all that's been asked is fo...  Extremely Positive   \n",
       "\n",
       "                                              text_clean  text_len  token_lens  \n",
       "953    a thought then to those of us with no income f...        42          68  \n",
       "4165   not a single bag of flour on the shelf 10 seas...        36          68  \n",
       "38817  artnaturals alcohol based hand sanitizer gel 1...        33          68  \n",
       "11204  cool daffodils are blooming come and get some ...        40          67  \n",
       "13320  what a nice bloke all thats been asked is for ...        45          67  "
      ]
     },
     "execution_count": 24,
     "metadata": {},
     "output_type": "execute_result"
    }
   ],
   "source": [
    "df_train = df_train.iloc[12:]\n",
    "df_train.head()"
   ]
  },
  {
   "cell_type": "code",
   "execution_count": 25,
   "metadata": {},
   "outputs": [],
   "source": [
    "# Shuffle and reset the index of the dataset\n",
    "df_train = df_train.sample(frac = 1).reset_index(drop = True)"
   ]
  },
  {
   "cell_type": "code",
   "execution_count": 26,
   "metadata": {},
   "outputs": [
    {
     "name": "stdout",
     "output_type": "stream",
     "text": [
      "Max tokenized sentence length : 69\n"
     ]
    }
   ],
   "source": [
    "# Test data deeper cleaning\n",
    "token_lens_test = []\n",
    "for txt in df_test['text_clean'].values:\n",
    "    tokens = tokenizer.encode(txt, max_length = 512, truncation = True)\n",
    "    token_lens_test.append(len(tokens))\n",
    "max_len=np.max(token_lens_test)\n",
    "\n",
    "print(f\"Max tokenized sentence length : {max_len}\")"
   ]
  },
  {
   "cell_type": "code",
   "execution_count": 27,
   "metadata": {},
   "outputs": [],
   "source": [
    "token_lens_test = []\n",
    "for i, txt in enumerate(df_test['text_clean'].values) :\n",
    "    tokens = tokenizer.encode(txt, max_length = 512, truncation = True)\n",
    "    token_lens_test.append(len(tokens))\n",
    "    if len(tokens) > 80 :\n",
    "        print(f\"Index : {i}, Text : {txt}\")"
   ]
  },
  {
   "cell_type": "code",
   "execution_count": 28,
   "metadata": {},
   "outputs": [
    {
     "data": {
      "text/html": [
       "<div>\n",
       "<style scoped>\n",
       "    .dataframe tbody tr th:only-of-type {\n",
       "        vertical-align: middle;\n",
       "    }\n",
       "\n",
       "    .dataframe tbody tr th {\n",
       "        vertical-align: top;\n",
       "    }\n",
       "\n",
       "    .dataframe thead th {\n",
       "        text-align: right;\n",
       "    }\n",
       "</style>\n",
       "<table border=\"1\" class=\"dataframe\">\n",
       "  <thead>\n",
       "    <tr style=\"text-align: right;\">\n",
       "      <th></th>\n",
       "      <th>OriginalTweet</th>\n",
       "      <th>Sentiment</th>\n",
       "      <th>text_clean</th>\n",
       "      <th>text_len</th>\n",
       "      <th>token_lens</th>\n",
       "    </tr>\n",
       "  </thead>\n",
       "  <tbody>\n",
       "    <tr>\n",
       "      <th>2177</th>\n",
       "      <td>Yo mama so nasty COVID won't take her\\r\\r\\nYo ...</td>\n",
       "      <td>Extremely Negative</td>\n",
       "      <td>yo mama so nasty covid wont take her yo mama s...</td>\n",
       "      <td>53</td>\n",
       "      <td>69</td>\n",
       "    </tr>\n",
       "    <tr>\n",
       "      <th>2918</th>\n",
       "      <td>obyrne EVAUK actionhunger may food union spark...</td>\n",
       "      <td>Extremely Negative</td>\n",
       "      <td>obyrne evauk actionhunger may food union spark...</td>\n",
       "      <td>56</td>\n",
       "      <td>67</td>\n",
       "    </tr>\n",
       "    <tr>\n",
       "      <th>3560</th>\n",
       "      <td>What's the craziest thing you've done in the l...</td>\n",
       "      <td>Negative</td>\n",
       "      <td>whats the craziest thing youve done in the las...</td>\n",
       "      <td>44</td>\n",
       "      <td>67</td>\n",
       "    </tr>\n",
       "    <tr>\n",
       "      <th>227</th>\n",
       "      <td>Reporting on COVID-19 Has to stop Many times y...</td>\n",
       "      <td>Positive</td>\n",
       "      <td>reporting on covid19 has to stop many times yo...</td>\n",
       "      <td>53</td>\n",
       "      <td>66</td>\n",
       "    </tr>\n",
       "    <tr>\n",
       "      <th>3045</th>\n",
       "      <td>In times like #coronavirus people at #covid19d...</td>\n",
       "      <td>Positive</td>\n",
       "      <td>in times like coronavirus people at covid19deu...</td>\n",
       "      <td>45</td>\n",
       "      <td>65</td>\n",
       "    </tr>\n",
       "    <tr>\n",
       "      <th>1421</th>\n",
       "      <td>THIS #Coronovirus IS SHOWING THE \"TRUE COLORS\"...</td>\n",
       "      <td>Negative</td>\n",
       "      <td>this coronovirus is showing the true colors of...</td>\n",
       "      <td>50</td>\n",
       "      <td>65</td>\n",
       "    </tr>\n",
       "    <tr>\n",
       "      <th>2377</th>\n",
       "      <td>Well. My life is about to solely be about work...</td>\n",
       "      <td>Positive</td>\n",
       "      <td>well my life is about to solely be about work ...</td>\n",
       "      <td>60</td>\n",
       "      <td>64</td>\n",
       "    </tr>\n",
       "    <tr>\n",
       "      <th>1657</th>\n",
       "      <td>I was enlightened on the issue of \"panic-buyin...</td>\n",
       "      <td>Negative</td>\n",
       "      <td>i was enlightened on the issue of panicbuying ...</td>\n",
       "      <td>50</td>\n",
       "      <td>64</td>\n",
       "    </tr>\n",
       "    <tr>\n",
       "      <th>1960</th>\n",
       "      <td>I went shopping today and the part of town the...</td>\n",
       "      <td>Extremely Negative</td>\n",
       "      <td>i went shopping today and the part of town the...</td>\n",
       "      <td>50</td>\n",
       "      <td>64</td>\n",
       "    </tr>\n",
       "    <tr>\n",
       "      <th>2602</th>\n",
       "      <td>Stock up on Food, Water and supplements like S...</td>\n",
       "      <td>Extremely Positive</td>\n",
       "      <td>stock up on food water and supplements like se...</td>\n",
       "      <td>42</td>\n",
       "      <td>64</td>\n",
       "    </tr>\n",
       "  </tbody>\n",
       "</table>\n",
       "</div>"
      ],
      "text/plain": [
       "                                          OriginalTweet           Sentiment  \\\n",
       "2177  Yo mama so nasty COVID won't take her\\r\\r\\nYo ...  Extremely Negative   \n",
       "2918  obyrne EVAUK actionhunger may food union spark...  Extremely Negative   \n",
       "3560  What's the craziest thing you've done in the l...            Negative   \n",
       "227   Reporting on COVID-19 Has to stop Many times y...            Positive   \n",
       "3045  In times like #coronavirus people at #covid19d...            Positive   \n",
       "1421  THIS #Coronovirus IS SHOWING THE \"TRUE COLORS\"...            Negative   \n",
       "2377  Well. My life is about to solely be about work...            Positive   \n",
       "1657  I was enlightened on the issue of \"panic-buyin...            Negative   \n",
       "1960  I went shopping today and the part of town the...  Extremely Negative   \n",
       "2602  Stock up on Food, Water and supplements like S...  Extremely Positive   \n",
       "\n",
       "                                             text_clean  text_len  token_lens  \n",
       "2177  yo mama so nasty covid wont take her yo mama s...        53          69  \n",
       "2918  obyrne evauk actionhunger may food union spark...        56          67  \n",
       "3560  whats the craziest thing youve done in the las...        44          67  \n",
       "227   reporting on covid19 has to stop many times yo...        53          66  \n",
       "3045  in times like coronavirus people at covid19deu...        45          65  \n",
       "1421  this coronovirus is showing the true colors of...        50          65  \n",
       "2377  well my life is about to solely be about work ...        60          64  \n",
       "1657  i was enlightened on the issue of panicbuying ...        50          64  \n",
       "1960  i went shopping today and the part of town the...        50          64  \n",
       "2602  stock up on food water and supplements like se...        42          64  "
      ]
     },
     "execution_count": 28,
     "metadata": {},
     "output_type": "execute_result"
    }
   ],
   "source": [
    "# Drop the text that are not in english\n",
    "df_test['token_lens'] = token_lens_test\n",
    "df_test = df_test.sort_values(by = 'token_lens', ascending = False)\n",
    "df_test.head(10)"
   ]
  },
  {
   "cell_type": "code",
   "execution_count": 29,
   "metadata": {},
   "outputs": [
    {
     "data": {
      "text/html": [
       "<div>\n",
       "<style scoped>\n",
       "    .dataframe tbody tr th:only-of-type {\n",
       "        vertical-align: middle;\n",
       "    }\n",
       "\n",
       "    .dataframe tbody tr th {\n",
       "        vertical-align: top;\n",
       "    }\n",
       "\n",
       "    .dataframe thead th {\n",
       "        text-align: right;\n",
       "    }\n",
       "</style>\n",
       "<table border=\"1\" class=\"dataframe\">\n",
       "  <thead>\n",
       "    <tr style=\"text-align: right;\">\n",
       "      <th></th>\n",
       "      <th>OriginalTweet</th>\n",
       "      <th>Sentiment</th>\n",
       "      <th>text_clean</th>\n",
       "      <th>text_len</th>\n",
       "      <th>token_lens</th>\n",
       "    </tr>\n",
       "  </thead>\n",
       "  <tbody>\n",
       "    <tr>\n",
       "      <th>1421</th>\n",
       "      <td>THIS #Coronovirus IS SHOWING THE \"TRUE COLORS\"...</td>\n",
       "      <td>Negative</td>\n",
       "      <td>this coronovirus is showing the true colors of...</td>\n",
       "      <td>50</td>\n",
       "      <td>65</td>\n",
       "    </tr>\n",
       "    <tr>\n",
       "      <th>2377</th>\n",
       "      <td>Well. My life is about to solely be about work...</td>\n",
       "      <td>Positive</td>\n",
       "      <td>well my life is about to solely be about work ...</td>\n",
       "      <td>60</td>\n",
       "      <td>64</td>\n",
       "    </tr>\n",
       "    <tr>\n",
       "      <th>1657</th>\n",
       "      <td>I was enlightened on the issue of \"panic-buyin...</td>\n",
       "      <td>Negative</td>\n",
       "      <td>i was enlightened on the issue of panicbuying ...</td>\n",
       "      <td>50</td>\n",
       "      <td>64</td>\n",
       "    </tr>\n",
       "  </tbody>\n",
       "</table>\n",
       "</div>"
      ],
      "text/plain": [
       "                                          OriginalTweet Sentiment  \\\n",
       "1421  THIS #Coronovirus IS SHOWING THE \"TRUE COLORS\"...  Negative   \n",
       "2377  Well. My life is about to solely be about work...  Positive   \n",
       "1657  I was enlightened on the issue of \"panic-buyin...  Negative   \n",
       "\n",
       "                                             text_clean  text_len  token_lens  \n",
       "1421  this coronovirus is showing the true colors of...        50          65  \n",
       "2377  well my life is about to solely be about work ...        60          64  \n",
       "1657  i was enlightened on the issue of panicbuying ...        50          64  "
      ]
     },
     "execution_count": 29,
     "metadata": {},
     "output_type": "execute_result"
    }
   ],
   "source": [
    "df_test = df_test.iloc[5:]\n",
    "df_test.head(3)"
   ]
  },
  {
   "cell_type": "code",
   "execution_count": 30,
   "metadata": {},
   "outputs": [],
   "source": [
    "# Shuffle and reset the index of the dataset\n",
    "df_test = df_test.sample(frac = 1).reset_index(drop = True)"
   ]
  },
  {
   "cell_type": "code",
   "execution_count": 31,
   "metadata": {},
   "outputs": [
    {
     "data": {
      "text/plain": [
       "Positive              1355\n",
       "Negative              1219\n",
       "Neutral                926\n",
       "Extremely Positive     806\n",
       "Extremely Negative     654\n",
       "Name: Sentiment, dtype: int64"
      ]
     },
     "execution_count": 31,
     "metadata": {},
     "output_type": "execute_result"
    }
   ],
   "source": [
    "# Sentiment column analysis\n",
    "df_train['Sentiment'].value_counts()"
   ]
  },
  {
   "cell_type": "code",
   "execution_count": 32,
   "metadata": {},
   "outputs": [
    {
     "data": {
      "text/plain": [
       " 1    2161\n",
       "-1    1873\n",
       " 0     926\n",
       "Name: Sentiment, dtype: int64"
      ]
     },
     "execution_count": 32,
     "metadata": {},
     "output_type": "execute_result"
    }
   ],
   "source": [
    "# Initialize the sentiment type with numbers\n",
    "df_train['Sentiment'] = df_train['Sentiment'].map({'Extremely Negative' : -1, 'Negative' : -1, 'Neutral' : 0, 'Positive' : 1, 'Extremely Positive' : 1})\n",
    "df_test['Sentiment'] = df_test['Sentiment'].map({'Extremely Negative' : -1, 'Negative' : -1, 'Neutral' : 0, 'Positive' : 1, 'Extremely Positive' : 1})\n",
    "df_train['Sentiment'].value_counts()"
   ]
  },
  {
   "cell_type": "code",
   "execution_count": 33,
   "metadata": {},
   "outputs": [
    {
     "data": {
      "text/plain": [
       "-1    2161\n",
       " 1    2161\n",
       " 0    2161\n",
       "Name: Sentiment, dtype: int64"
      ]
     },
     "execution_count": 33,
     "metadata": {},
     "output_type": "execute_result"
    }
   ],
   "source": [
    "# Class Balancing by RandomOverSampler\n",
    "ros = RandomOverSampler()\n",
    "train_x, train_y = ros.fit_resample(np.array(df_train['text_clean']).reshape(-1, 1), np.array(df_train['Sentiment']).reshape(-1, 1))\n",
    "train_os = pd.DataFrame(list(zip([x[0] for x in train_x], train_y)), columns = ['text_clean', 'Sentiment'])\n",
    "train_os['Sentiment'].value_counts()"
   ]
  },
  {
   "cell_type": "code",
   "execution_count": 34,
   "metadata": {},
   "outputs": [],
   "source": [
    "# Train - Validation - Test split\n",
    "x = train_os['text_clean'].values\n",
    "y = train_os['Sentiment'].values\n",
    "\n",
    "# Extract the validation set from the training set\n",
    "X_train, X_valid, y_train, y_valid = train_test_split(x, y, test_size = 0.1, stratify = y, random_state = seed)\n",
    "X_test = df_test['text_clean'].values\n",
    "y_test = df_test['Sentiment'].values"
   ]
  },
  {
   "cell_type": "code",
   "execution_count": 35,
   "metadata": {},
   "outputs": [
    {
     "name": "stdout",
     "output_type": "stream",
     "text": [
      "Training data : 5834\n",
      "Validation data : 649\n",
      "Testing data : 992\n"
     ]
    }
   ],
   "source": [
    "# One hot encoding\n",
    "y_train_le = y_train.copy()\n",
    "y_valid_le = y_valid.copy()\n",
    "y_test_le = y_test.copy()\n",
    "\n",
    "ohe = preprocessing.OneHotEncoder()\n",
    "y_train = ohe.fit_transform(np.array(y_train).reshape(-1, 1)).toarray()\n",
    "y_valid = ohe.fit_transform(np.array(y_valid).reshape(-1, 1)).toarray()\n",
    "y_test = ohe.fit_transform(np.array(y_test).reshape(-1, 1)).toarray()\n",
    "\n",
    "print(f\"Training data : {X_train.shape[0]}\\nValidation data : {X_valid.shape[0]}\\nTesting data : {X_test.shape[0]}\" )"
   ]
  },
  {
   "cell_type": "code",
   "execution_count": 36,
   "metadata": {},
   "outputs": [
    {
     "data": {
      "text/plain": [
       "MultinomialNB()"
      ]
     },
     "execution_count": 36,
     "metadata": {},
     "output_type": "execute_result"
    }
   ],
   "source": [
    "# Naive Bayes classifier\n",
    "\n",
    "# Tokenize the tweets using CountVectorizer\n",
    "clf = CountVectorizer()\n",
    "X_train_cv =  clf.fit_transform(X_train)\n",
    "X_test_cv = clf.transform(X_test)\n",
    "\n",
    "tf_transformer = TfidfTransformer(use_idf = True).fit(X_train_cv)\n",
    "X_train_tf = tf_transformer.transform(X_train_cv)\n",
    "X_test_tf = tf_transformer.transform(X_test_cv)\n",
    "\n",
    "nb_clf = MultinomialNB()\n",
    "nb_clf.fit(X_train_tf, y_train_le)"
   ]
  },
  {
   "cell_type": "code",
   "execution_count": 37,
   "metadata": {},
   "outputs": [
    {
     "name": "stdout",
     "output_type": "stream",
     "text": [
      "\tClassification Report for Naive Bayes :\n",
      "\n",
      "               precision    recall  f1-score   support\n",
      "\n",
      "    Negative       0.67      0.70      0.69       430\n",
      "     Neutral       0.55      0.38      0.45       156\n",
      "    Positive       0.65      0.68      0.67       406\n",
      "\n",
      "    accuracy                           0.65       992\n",
      "   macro avg       0.62      0.59      0.60       992\n",
      "weighted avg       0.64      0.65      0.64       992\n",
      "\n"
     ]
    }
   ],
   "source": [
    "nb_pred = nb_clf.predict(X_test_tf)\n",
    "print('\\tClassification Report for Naive Bayes :\\n\\n', classification_report(y_test_le, nb_pred, target_names = ['Negative', 'Neutral', 'Positive']))"
   ]
  },
  {
   "cell_type": "code",
   "execution_count": 38,
   "metadata": {},
   "outputs": [
    {
     "name": "stderr",
     "output_type": "stream",
     "text": [
      "Some weights of the PyTorch model were not used when initializing the TF 2.0 model TFBertModel: ['cls.predictions.transform.dense.weight', 'cls.seq_relationship.weight', 'cls.seq_relationship.bias', 'cls.predictions.bias', 'cls.predictions.transform.LayerNorm.weight', 'cls.predictions.transform.dense.bias', 'cls.predictions.transform.LayerNorm.bias']\n",
      "- This IS expected if you are initializing TFBertModel from a PyTorch model trained on another task or with another architecture (e.g. initializing a TFBertForSequenceClassification model from a BertForPreTraining model).\n",
      "- This IS NOT expected if you are initializing TFBertModel from a PyTorch model that you expect to be exactly identical (e.g. initializing a TFBertForSequenceClassification model from a BertForSequenceClassification model).\n",
      "All the weights of TFBertModel were initialized from the PyTorch model.\n",
      "If your task is similar to the task the model of the checkpoint was trained on, you can already use TFBertModel for predictions without further training.\n"
     ]
    }
   ],
   "source": [
    "# BERT Sentiment Analysis\n",
    "\n",
    "# Custom tokenizer function and call the encode_plus method of the BERT tokenizer\n",
    "MAX_LEN = 128\n",
    "def tokenize(data, max_len = MAX_LEN) :\n",
    "    input_ids = []\n",
    "    attention_masks = []\n",
    "    for i in range(len(data)) :\n",
    "        encoded = tokenizer.encode_plus(\n",
    "            data[i],\n",
    "            add_special_tokens = True,\n",
    "            max_length = MAX_LEN,\n",
    "            padding = 'max_length',\n",
    "            return_attention_mask = True\n",
    "        )\n",
    "        input_ids.append(encoded['input_ids'])\n",
    "        attention_masks.append(encoded['attention_mask'])\n",
    "    return np.array(input_ids), np.array(attention_masks)\n",
    "\n",
    "# Apply the tokenizer function to the train, validation and test datasets\n",
    "train_input_ids, train_attention_masks = tokenize(X_train, MAX_LEN)\n",
    "val_input_ids, val_attention_masks = tokenize(X_valid, MAX_LEN)\n",
    "test_input_ids, test_attention_masks = tokenize(X_test, MAX_LEN)\n",
    "\n",
    "# Import BERT model from pretrained library\n",
    "bert_model = TFBertModel.from_pretrained('bert-base-uncased')"
   ]
  },
  {
   "cell_type": "code",
   "execution_count": 39,
   "metadata": {},
   "outputs": [
    {
     "name": "stdout",
     "output_type": "stream",
     "text": [
      "Model: \"model\"\n",
      "__________________________________________________________________________________________________\n",
      " Layer (type)                   Output Shape         Param #     Connected to                     \n",
      "==================================================================================================\n",
      " input_1 (InputLayer)           [(None, 128)]        0           []                               \n",
      "                                                                                                  \n",
      " input_2 (InputLayer)           [(None, 128)]        0           []                               \n",
      "                                                                                                  \n",
      " tf_bert_model (TFBertModel)    TFBaseModelOutputWi  109482240   ['input_1[0][0]',                \n",
      "                                thPoolingAndCrossAt               'input_2[0][0]']                \n",
      "                                tentions(last_hidde                                               \n",
      "                                n_state=(None, 128,                                               \n",
      "                                 768),                                                            \n",
      "                                 pooler_output=(Non                                               \n",
      "                                e, 768),                                                          \n",
      "                                 past_key_values=No                                               \n",
      "                                ne, hidden_states=N                                               \n",
      "                                one, attentions=Non                                               \n",
      "                                e, cross_attentions                                               \n",
      "                                =None)                                                            \n",
      "                                                                                                  \n",
      " dense (Dense)                  (None, 3)            2307        ['tf_bert_model[0][1]']          \n",
      "                                                                                                  \n",
      "==================================================================================================\n",
      "Total params: 109,484,547\n",
      "Trainable params: 109,484,547\n",
      "Non-trainable params: 0\n",
      "__________________________________________________________________________________________________\n"
     ]
    }
   ],
   "source": [
    "# BERT modeling\n",
    "def create_model(bert_model, max_len = MAX_LEN) :\n",
    "    opt = tf.keras.optimizers.legacy.Adam(learning_rate = 1e-5, decay = 1e-7)\n",
    "    loss = tf.keras.losses.CategoricalCrossentropy()\n",
    "    accuracy = tf.keras.metrics.CategoricalAccuracy()\n",
    "\n",
    "    input_ids = tf.keras.Input(shape = (max_len,), dtype = 'int32')\n",
    "    \n",
    "    attention_masks = tf.keras.Input(shape = (max_len,), dtype = 'int32')\n",
    "    \n",
    "    embeddings = bert_model([input_ids, attention_masks])[1]\n",
    "    \n",
    "    output = tf.keras.layers.Dense(3, activation = \"softmax\")(embeddings)\n",
    "    \n",
    "    model = tf.keras.models.Model(inputs = [input_ids, attention_masks], outputs = output)\n",
    "    \n",
    "    model.compile(opt, loss = loss, metrics = accuracy)\n",
    "    \n",
    "    return model\n",
    "\n",
    "model = create_model(bert_model, MAX_LEN)\n",
    "model.summary()"
   ]
  },
  {
   "cell_type": "code",
   "execution_count": 40,
   "metadata": {},
   "outputs": [
    {
     "name": "stdout",
     "output_type": "stream",
     "text": [
      "Epoch 1/4\n",
      "365/365 [==============================] - 1422s 4s/step - loss: 0.8633 - categorical_accuracy: 0.5991 - val_loss: 0.7276 - val_categorical_accuracy: 0.7165\n",
      "Epoch 2/4\n",
      "365/365 [==============================] - 1391s 4s/step - loss: 0.5191 - categorical_accuracy: 0.8043 - val_loss: 0.5097 - val_categorical_accuracy: 0.8182\n",
      "Epoch 3/4\n",
      "365/365 [==============================] - 1392s 4s/step - loss: 0.2970 - categorical_accuracy: 0.8996 - val_loss: 0.4877 - val_categorical_accuracy: 0.8367\n",
      "Epoch 4/4\n",
      "365/365 [==============================] - 1388s 4s/step - loss: 0.1694 - categorical_accuracy: 0.9465 - val_loss: 0.5020 - val_categorical_accuracy: 0.8521\n"
     ]
    }
   ],
   "source": [
    "# Fine tuning the BERT transformer\n",
    "history_bert = model.fit([train_input_ids,train_attention_masks], y_train, validation_data = ([val_input_ids, val_attention_masks], y_valid), epochs = 4, batch_size = 16)"
   ]
  },
  {
   "cell_type": "code",
   "execution_count": 41,
   "metadata": {},
   "outputs": [
    {
     "name": "stdout",
     "output_type": "stream",
     "text": [
      "31/31 [==============================] - 71s 2s/step\n"
     ]
    },
    {
     "data": {
      "image/png": "[encoded data removed]",
      "text/plain": [
       "<Figure size 800x600 with 2 Axes>"
      ]
     },
     "metadata": {},
     "output_type": "display_data"
    }
   ],
   "source": [
    "# BERT results \n",
    "result_bert = model.predict([test_input_ids, test_attention_masks])\n",
    "\n",
    "y_pred_bert = np.zeros_like(result_bert)\n",
    "y_pred_bert[np.arange(len(y_pred_bert)), result_bert.argmax(1)] = 1\n",
    "\n",
    "cm = confusion_matrix(y_test.argmax(1), y_pred_bert.argmax(1))\n",
    "plt.figure(figsize = (8, 6))\n",
    "sns.heatmap(cm, annot = True, cmap = 'Blues', fmt = 'd', xticklabels = ['Negative', 'Neutral', 'Positive'], \n",
    "            yticklabels = ['Negative', 'Neutral', 'Positive'])\n",
    "plt.xlabel('Predicted')\n",
    "plt.ylabel('Actual')\n",
    "plt.title('BERT Sentiment Analysis\\nConfusion Matrix')\n",
    "plt.show()"
   ]
  },
  {
   "cell_type": "code",
   "execution_count": 42,
   "metadata": {},
   "outputs": [
    {
     "name": "stdout",
     "output_type": "stream",
     "text": [
      "\tClassification Report for BERT:\n",
      "\n",
      "               precision    recall  f1-score   support\n",
      "\n",
      "    Negative       0.74      0.90      0.81       430\n",
      "     Neutral       0.74      0.56      0.64       156\n",
      "    Positive       0.82      0.70      0.76       406\n",
      "\n",
      "   micro avg       0.77      0.77      0.77       992\n",
      "   macro avg       0.76      0.72      0.73       992\n",
      "weighted avg       0.77      0.77      0.76       992\n",
      " samples avg       0.77      0.77      0.77       992\n",
      "\n"
     ]
    }
   ],
   "source": [
    "print('\\tClassification Report for BERT:\\n\\n', classification_report(y_test, y_pred_bert, target_names = ['Negative', 'Neutral', 'Positive']))"
   ]
  },
  {
   "cell_type": "code",
   "execution_count": 43,
   "metadata": {},
   "outputs": [
    {
     "data": {
      "text/plain": [
       "73"
      ]
     },
     "execution_count": 43,
     "metadata": {},
     "output_type": "execute_result"
    }
   ],
   "source": [
    "# RoBERTa Sentiment Analysis\n",
    "\n",
    "tokenizer_roberta = RobertaTokenizerFast.from_pretrained(\"roberta-base\")\n",
    "\n",
    "# Check the length of the longest tokenized sentence by roberta tokenizer\n",
    "token_lens = []\n",
    "for txt in X_train :\n",
    "    tokens = tokenizer_roberta.encode(txt, max_length = 512, truncation = True)\n",
    "    token_lens.append(len(tokens))\n",
    "max_length = np.max(token_lens)\n",
    "max_length"
   ]
  },
  {
   "cell_type": "code",
   "execution_count": 44,
   "metadata": {},
   "outputs": [],
   "source": [
    "MAX_LEN = 128\n",
    "\n",
    "# Define the tokenization function\n",
    "def tokenize_roberta(data,max_len = MAX_LEN) :\n",
    "    input_ids = []\n",
    "    attention_masks = []\n",
    "    for i in range(len(data)) :\n",
    "        encoded = tokenizer_roberta.encode_plus(\n",
    "            data[i],\n",
    "            add_special_tokens = True,\n",
    "            max_length = max_len,\n",
    "            padding = 'max_length',\n",
    "            return_attention_mask = True\n",
    "        )\n",
    "        input_ids.append(encoded['input_ids'])\n",
    "        attention_masks.append(encoded['attention_mask'])\n",
    "    return np.array(input_ids),np.array(attention_masks)\n",
    "\n",
    "train_input_ids, train_attention_masks = tokenize_roberta(X_train, MAX_LEN)\n",
    "val_input_ids, val_attention_masks = tokenize_roberta(X_valid, MAX_LEN)\n",
    "test_input_ids, test_attention_masks = tokenize_roberta(X_test, MAX_LEN)"
   ]
  },
  {
   "cell_type": "code",
   "execution_count": 45,
   "metadata": {},
   "outputs": [
    {
     "name": "stderr",
     "output_type": "stream",
     "text": [
      "Some weights of the PyTorch model were not used when initializing the TF 2.0 model TFRobertaModel: ['lm_head.layer_norm.weight', 'roberta.embeddings.position_ids', 'lm_head.layer_norm.bias', 'lm_head.dense.bias', 'lm_head.bias', 'lm_head.dense.weight']\n",
      "- This IS expected if you are initializing TFRobertaModel from a PyTorch model trained on another task or with another architecture (e.g. initializing a TFBertForSequenceClassification model from a BertForPreTraining model).\n",
      "- This IS NOT expected if you are initializing TFRobertaModel from a PyTorch model that you expect to be exactly identical (e.g. initializing a TFBertForSequenceClassification model from a BertForSequenceClassification model).\n",
      "Some weights or buffers of the TF 2.0 model TFRobertaModel were not initialized from the PyTorch model and are newly initialized: ['roberta.pooler.dense.weight', 'roberta.pooler.dense.bias']\n",
      "You should probably TRAIN this model on a down-stream task to be able to use it for predictions and inference.\n"
     ]
    }
   ],
   "source": [
    "# RoBERTa modeling\n",
    "def create_model(bert_model, max_len = MAX_LEN) :\n",
    "    \n",
    "    opt = tf.keras.optimizers.legacy.Adam(learning_rate = 1e-5, decay = 1e-7)\n",
    "    loss = tf.keras.losses.CategoricalCrossentropy()\n",
    "    accuracy = tf.keras.metrics.CategoricalAccuracy()\n",
    "\n",
    "    input_ids = tf.keras.Input(shape = (max_len,), dtype = 'int32')\n",
    "    attention_masks = tf.keras.Input(shape = (max_len,), dtype = 'int32')\n",
    "    output = bert_model([input_ids, attention_masks])\n",
    "    output = output[1]\n",
    "    output = tf.keras.layers.Dense(3, activation = tf.nn.softmax)(output)\n",
    "    model = tf.keras.models.Model(inputs = [input_ids, attention_masks], outputs = output)\n",
    "    model.compile(opt, loss = loss, metrics = accuracy)\n",
    "    return model\n",
    "\n",
    "roberta_model = TFRobertaModel.from_pretrained('roberta-base')"
   ]
  },
  {
   "cell_type": "code",
   "execution_count": 46,
   "metadata": {},
   "outputs": [
    {
     "name": "stdout",
     "output_type": "stream",
     "text": [
      "Model: \"model_1\"\n",
      "__________________________________________________________________________________________________\n",
      " Layer (type)                   Output Shape         Param #     Connected to                     \n",
      "==================================================================================================\n",
      " input_3 (InputLayer)           [(None, 128)]        0           []                               \n",
      "                                                                                                  \n",
      " input_4 (InputLayer)           [(None, 128)]        0           []                               \n",
      "                                                                                                  \n",
      " tf_roberta_model (TFRobertaMod  TFBaseModelOutputWi  124645632  ['input_3[0][0]',                \n",
      " el)                            thPoolingAndCrossAt               'input_4[0][0]']                \n",
      "                                tentions(last_hidde                                               \n",
      "                                n_state=(None, 128,                                               \n",
      "                                 768),                                                            \n",
      "                                 pooler_output=(Non                                               \n",
      "                                e, 768),                                                          \n",
      "                                 past_key_values=No                                               \n",
      "                                ne, hidden_states=N                                               \n",
      "                                one, attentions=Non                                               \n",
      "                                e, cross_attentions                                               \n",
      "                                =None)                                                            \n",
      "                                                                                                  \n",
      " dense_1 (Dense)                (None, 3)            2307        ['tf_roberta_model[0][1]']       \n",
      "                                                                                                  \n",
      "==================================================================================================\n",
      "Total params: 124,647,939\n",
      "Trainable params: 124,647,939\n",
      "Non-trainable params: 0\n",
      "__________________________________________________________________________________________________\n"
     ]
    }
   ],
   "source": [
    "model = create_model(roberta_model, MAX_LEN)\n",
    "model.summary()"
   ]
  },
  {
   "cell_type": "code",
   "execution_count": 47,
   "metadata": {},
   "outputs": [
    {
     "name": "stdout",
     "output_type": "stream",
     "text": [
      "Epoch 1/4\n",
      "365/365 [==============================] - 1457s 4s/step - loss: 0.8885 - categorical_accuracy: 0.5821 - val_loss: 0.6787 - val_categorical_accuracy: 0.7149\n",
      "Epoch 2/4\n",
      "365/365 [==============================] - 1446s 4s/step - loss: 0.5671 - categorical_accuracy: 0.7787 - val_loss: 0.5542 - val_categorical_accuracy: 0.7997\n",
      "Epoch 3/4\n",
      "365/365 [==============================] - 1644s 5s/step - loss: 0.3802 - categorical_accuracy: 0.8552 - val_loss: 0.5078 - val_categorical_accuracy: 0.8259\n",
      "Epoch 4/4\n",
      "365/365 [==============================] - 1413s 4s/step - loss: 0.2448 - categorical_accuracy: 0.9119 - val_loss: 0.4702 - val_categorical_accuracy: 0.8182\n"
     ]
    }
   ],
   "source": [
    "# Fine tuning the RoBERTa transformer\n",
    "history_roberta = model.fit([train_input_ids, train_attention_masks], y_train, validation_data = ([val_input_ids, val_attention_masks], y_valid), epochs = 4, batch_size = 16)"
   ]
  },
  {
   "cell_type": "code",
   "execution_count": 48,
   "metadata": {},
   "outputs": [
    {
     "name": "stdout",
     "output_type": "stream",
     "text": [
      "31/31 [==============================] - 71s 2s/step\n"
     ]
    },
    {
     "data": {
      "image/png": "[encoded data removed]",
      "text/plain": [
       "<Figure size 800x600 with 2 Axes>"
      ]
     },
     "metadata": {},
     "output_type": "display_data"
    }
   ],
   "source": [
    "# RoBERTa results\n",
    "result_roberta = model.predict([test_input_ids, test_attention_masks])\n",
    "\n",
    "y_pred_roberta =  np.zeros_like(result_roberta)\n",
    "y_pred_roberta[np.arange(len(y_pred_roberta)), result_roberta.argmax(1)] = 1\n",
    "\n",
    "cm2 = confusion_matrix(y_test.argmax(1), y_pred_roberta.argmax(1))\n",
    "plt.figure(figsize = (8, 6))\n",
    "sns.heatmap(cm2, annot = True, cmap = 'Blues', fmt = 'd', xticklabels = ['Negative', 'Neutral', 'Positive'], \n",
    "            yticklabels = ['Negative', 'Neutral', 'Positive'])\n",
    "plt.xlabel('Predicted')\n",
    "plt.ylabel('Actual')\n",
    "plt.title('RoBERTa Sentiment Analysis\\nConfusion Matrix')\n",
    "plt.show()"
   ]
  },
  {
   "cell_type": "code",
   "execution_count": 49,
   "metadata": {},
   "outputs": [
    {
     "name": "stdout",
     "output_type": "stream",
     "text": [
      "\tClassification Report for RoBERTa:\n",
      "\n",
      "               precision    recall  f1-score   support\n",
      "\n",
      "    Negative       0.77      0.81      0.79       430\n",
      "     Neutral       0.56      0.73      0.64       156\n",
      "    Positive       0.81      0.67      0.74       406\n",
      "\n",
      "   micro avg       0.74      0.74      0.74       992\n",
      "   macro avg       0.71      0.74      0.72       992\n",
      "weighted avg       0.75      0.74      0.74       992\n",
      " samples avg       0.74      0.74      0.74       992\n",
      "\n"
     ]
    }
   ],
   "source": [
    "print('\\tClassification Report for RoBERTa:\\n\\n', classification_report(y_test, y_pred_roberta, target_names = ['Negative', 'Neutral', 'Positive']))"
   ]
  }
 ],
 "metadata": {
  "kernelspec": {
   "display_name": "Python 3",
   "language": "python",
   "name": "python3"
  },
  "language_info": {
   "codemirror_mode": {
    "name": "ipython",
    "version": 3
   },
   "file_extension": ".py",
   "mimetype": "text/x-python",
   "name": "python",
   "nbconvert_exporter": "python",
   "pygments_lexer": "ipython3",
   "version": "3.7.6"
  }
 },
 "nbformat": 4,
 "nbformat_minor": 2
}
